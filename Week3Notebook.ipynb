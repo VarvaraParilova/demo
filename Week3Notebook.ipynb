{
    "cells": [
        {
            "metadata": {},
            "cell_type": "markdown",
            "source": "# \u0423\u0447\u0443\u0441\u044c \u0442\u044b\u043a\u0430\u0442\u044c \u0432 \u0431\u043b\u043e\u043a\u043d\u043e\u0442"
        },
        {
            "metadata": {
                "scrolled": true
            },
            "cell_type": "code",
            "source": "\nimport types\nimport pandas as pd\nfrom botocore.client import Config\nimport ibm_boto3\n\ndef __iter__(self): return 0\n\n# @hidden_cell\n# The following code accesses a file in your IBM Cloud Object Storage. It includes your credentials.\n# You might want to remove those credentials before you share the notebook.\nclient_b93881df70f5419bb3fc950fad384fa8 = ibm_boto3.client(service_name='s3',\n    ibm_api_key_id='_h6iJz1DJQCN9L33mi_FoXRab2FX6D-CR1riAlNSO-xS',\n    ibm_auth_endpoint=\"https://iam.cloud.ibm.com/oidc/token\",\n    config=Config(signature_version='oauth'),\n    endpoint_url='https://s3-api.us-geo.objectstorage.service.networklayer.com')\n\nbody = client_b93881df70f5419bb3fc950fad384fa8.get_object(Bucket='week3-donotdelete-pr-tj15exmah7swwx',Key='\u0411\u0438\u0431\u043b\u0438\u043e\u0433\u0440\u0430\u0444\u0438\u044f.xlsx')['Body']\n# add missing __iter__ method, so pandas accepts body as file-like object\nif not hasattr(body, \"__iter__\"): body.__iter__ = types.MethodType( __iter__, body )\n\ndf_data_0 = pd.read_excel(body)\ndf_data_0.head()\n",
            "execution_count": 2,
            "outputs": [
                {
                    "output_type": "execute_result",
                    "execution_count": 2,
                    "data": {
                        "text/plain": "   Unnamed: 0                                       Author(s)  \\\n0           1       Jordon Pate and Danilo F. Conrad, editors   \n1           2  Editors Leiv Lunde, Yang Jian, Iselin Stensdal   \n2           3                                      Aki Tonami   \n3           4                                   \u0410\u043b\u0435\u043a\u0441\u0430\u043d\u0434\u0440 \u0411\u0443\u0445   \n4           5                                   Glenn D. Hook   \n\n                                               Title  Year  \\\n0  Russia in Asia and the Arctic : positioning, p...  2012   \n1             Asian countries and the\u00a0Arctic\u00a0future\u00a0  2016   \n2  Asian foreign policy in a changing Arctic : th...  2016   \n3  \u042f\u043f\u043e\u043d\u0438\u044f : \u043d\u0430\u0446\u0438\u043e\u043d\u0430\u043b\u044c\u043d\u0430\u044f \u0438\u0434\u0435\u043d\u0442\u0438\u0447\u043d\u043e\u0441\u0442\u044c \u0438 \u0432\u043d\u0435\u0448\u043d\u044f\u044f \u043f...  2012   \n4  Japan's international relations : politics, ec...  2012   \n\n                               Publisher Unnamed: 5  \n0                New York : Nova Science       Book  \n1          New Jersey : World Scientific       Book  \n2            London : Palgrave Macmillan       Book  \n3  \u041c\u043e\u0441\u043a\u0432\u0430 : \u041d\u043e\u0432\u043e\u0435 \u041b\u0438\u0442\u0435\u0440\u0430\u0442\u0443\u0440\u043d\u043e\u0435 \u041e\u0431\u043e\u0437\u0440\u0435\u043d\u0438\u0435       Book  \n4                    London : Routledge        Book  ",
                        "text/html": "<div>\n<style scoped>\n    .dataframe tbody tr th:only-of-type {\n        vertical-align: middle;\n    }\n\n    .dataframe tbody tr th {\n        vertical-align: top;\n    }\n\n    .dataframe thead th {\n        text-align: right;\n    }\n</style>\n<table border=\"1\" class=\"dataframe\">\n  <thead>\n    <tr style=\"text-align: right;\">\n      <th></th>\n      <th>Unnamed: 0</th>\n      <th>Author(s)</th>\n      <th>Title</th>\n      <th>Year</th>\n      <th>Publisher</th>\n      <th>Unnamed: 5</th>\n    </tr>\n  </thead>\n  <tbody>\n    <tr>\n      <th>0</th>\n      <td>1</td>\n      <td>Jordon Pate and Danilo F. Conrad, editors</td>\n      <td>Russia in Asia and the Arctic : positioning, p...</td>\n      <td>2012</td>\n      <td>New York : Nova Science</td>\n      <td>Book</td>\n    </tr>\n    <tr>\n      <th>1</th>\n      <td>2</td>\n      <td>Editors Leiv Lunde, Yang Jian, Iselin Stensdal</td>\n      <td>Asian countries and the\u00a0Arctic\u00a0future</td>\n      <td>2016</td>\n      <td>New Jersey : World Scientific</td>\n      <td>Book</td>\n    </tr>\n    <tr>\n      <th>2</th>\n      <td>3</td>\n      <td>Aki Tonami</td>\n      <td>Asian foreign policy in a changing Arctic : th...</td>\n      <td>2016</td>\n      <td>London : Palgrave Macmillan</td>\n      <td>Book</td>\n    </tr>\n    <tr>\n      <th>3</th>\n      <td>4</td>\n      <td>\u0410\u043b\u0435\u043a\u0441\u0430\u043d\u0434\u0440 \u0411\u0443\u0445</td>\n      <td>\u042f\u043f\u043e\u043d\u0438\u044f : \u043d\u0430\u0446\u0438\u043e\u043d\u0430\u043b\u044c\u043d\u0430\u044f \u0438\u0434\u0435\u043d\u0442\u0438\u0447\u043d\u043e\u0441\u0442\u044c \u0438 \u0432\u043d\u0435\u0448\u043d\u044f\u044f \u043f...</td>\n      <td>2012</td>\n      <td>\u041c\u043e\u0441\u043a\u0432\u0430 : \u041d\u043e\u0432\u043e\u0435 \u041b\u0438\u0442\u0435\u0440\u0430\u0442\u0443\u0440\u043d\u043e\u0435 \u041e\u0431\u043e\u0437\u0440\u0435\u043d\u0438\u0435</td>\n      <td>Book</td>\n    </tr>\n    <tr>\n      <th>4</th>\n      <td>5</td>\n      <td>Glenn D. Hook</td>\n      <td>Japan's international relations : politics, ec...</td>\n      <td>2012</td>\n      <td>London : Routledge</td>\n      <td>Book</td>\n    </tr>\n  </tbody>\n</table>\n</div>"
                    },
                    "metadata": {}
                }
            ]
        },
        {
            "metadata": {},
            "cell_type": "code",
            "source": "",
            "execution_count": null,
            "outputs": []
        }
    ],
    "metadata": {
        "kernelspec": {
            "name": "python3",
            "display_name": "Python 3.6",
            "language": "python"
        },
        "language_info": {
            "name": "python",
            "version": "3.6.9",
            "mimetype": "text/x-python",
            "codemirror_mode": {
                "name": "ipython",
                "version": 3
            },
            "pygments_lexer": "ipython3",
            "nbconvert_exporter": "python",
            "file_extension": ".py"
        }
    },
    "nbformat": 4,
    "nbformat_minor": 1
}